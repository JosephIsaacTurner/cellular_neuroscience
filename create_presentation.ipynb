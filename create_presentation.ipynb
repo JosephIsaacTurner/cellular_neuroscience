{
 "cells": [
  {
   "cell_type": "code",
   "execution_count": 10,
   "metadata": {},
   "outputs": [],
   "source": [
    "import os\n",
    "\n",
    "def create_markdown_with_images(directory, output_file, base_directory):\n",
    "    # List all files in the directory\n",
    "    files = os.listdir(directory)\n",
    "    \n",
    "    # Filter out non-image files\n",
    "    image_files = [f for f in files if f.lower().endswith(('.png', '.jpg', '.jpeg', '.gif'))]\n",
    "\n",
    "    # Sort files if needed\n",
    "    image_files.sort()\n",
    "\n",
    "    # Markdown lines\n",
    "    markdown_lines = []\n",
    "\n",
    "    for image in image_files:\n",
    "        # Construct the full image path\n",
    "        full_image_path = os.path.join(directory, image)\n",
    "\n",
    "        # Replace spaces with %20 and backslashes with forward slashes for URL encoding\n",
    "        image_path = full_image_path.replace(' ', '%20').replace('\\\\', '/')\n",
    "\n",
    "        # Compute the relative image path\n",
    "        relative_image_path = os.path.relpath(image_path, base_directory)\n",
    "\n",
    "        # Create markdown string for each image\n",
    "        markdown_line = f\"![{image}]({relative_image_path})\"\n",
    "        markdown_lines.append(markdown_line)\n",
    "\n",
    "    # Write to markdown file\n",
    "    with open(output_file, 'w') as md_file:\n",
    "        for line in markdown_lines:\n",
    "            md_file.write(line + \"\\n\\n\")  # Adding extra newline for spacing\n",
    "\n",
    "def create_markdown_for_chapters(base_directory):\n",
    "    for root, dirs, files in os.walk(base_directory):\n",
    "        for dir in dirs:\n",
    "            if dir.startswith('Chapter'):\n",
    "                chapter_path = os.path.join(root, dir)\n",
    "                presentation_figures_path = os.path.join(chapter_path, 'presentation_figures')\n",
    "\n",
    "                # Check if /presentation_figures directory exists\n",
    "                if os.path.exists(presentation_figures_path) and os.path.isdir(presentation_figures_path):\n",
    "                    output_md_file = f\"{chapter_path}_presentation.md\"\n",
    "                    create_markdown_with_images(presentation_figures_path, output_md_file, base_directory)\n",
    "                    print(f\"Created Markdown file: {output_md_file}\")\n"
   ]
  },
  {
   "cell_type": "code",
   "execution_count": 11,
   "metadata": {},
   "outputs": [
    {
     "name": "stdout",
     "output_type": "stream",
     "text": [
      "Created Markdown file: 4_Developmental_Neurobiology\\Chapter_15_presentation.md\n",
      "Created Markdown file: 4_Developmental_Neurobiology\\Chapter_16_presentation.md\n",
      "Created Markdown file: 4_Developmental_Neurobiology\\Chapter_17_presentation.md\n",
      "Created Markdown file: 4_Developmental_Neurobiology\\Chapter_18_presentation.md\n",
      "Created Markdown file: 4_Developmental_Neurobiology\\Chapter_19_presentation.md\n",
      "Created Markdown file: 4_Developmental_Neurobiology\\Chapter_20_presentation.md\n"
     ]
    }
   ],
   "source": [
    "# Example Usage\n",
    "base_path = \"4_Developmental_Neurobiology\"\n",
    "create_markdown_for_chapters(base_path)"
   ]
  }
 ],
 "metadata": {
  "kernelspec": {
   "display_name": "nimlab_web",
   "language": "python",
   "name": "python3"
  },
  "language_info": {
   "codemirror_mode": {
    "name": "ipython",
    "version": 3
   },
   "file_extension": ".py",
   "mimetype": "text/x-python",
   "name": "python",
   "nbconvert_exporter": "python",
   "pygments_lexer": "ipython3",
   "version": "3.11.5"
  }
 },
 "nbformat": 4,
 "nbformat_minor": 2
}
