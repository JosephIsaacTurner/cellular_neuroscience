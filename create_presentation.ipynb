{
 "cells": [
  {
   "cell_type": "code",
   "execution_count": 6,
   "metadata": {},
   "outputs": [
    {
     "ename": "FileNotFoundError",
     "evalue": "[WinError 3] The system cannot find the path specified: 'path/to/your/images'",
     "output_type": "error",
     "traceback": [
      "\u001b[1;31m---------------------------------------------------------------------------\u001b[0m",
      "\u001b[1;31mFileNotFoundError\u001b[0m                         Traceback (most recent call last)",
      "\u001b[1;32mc:\\Users\\josep\\cellular_neuroscience\\create_presentation.ipynb Cell 1\u001b[0m line \u001b[0;36m3\n\u001b[0;32m     <a href='vscode-notebook-cell:/c%3A/Users/josep/cellular_neuroscience/create_presentation.ipynb#W0sZmlsZQ%3D%3D?line=26'>27</a>\u001b[0m             md_file\u001b[39m.\u001b[39mwrite(line \u001b[39m+\u001b[39m \u001b[39m\"\u001b[39m\u001b[39m\\n\u001b[39;00m\u001b[39m\\n\u001b[39;00m\u001b[39m\"\u001b[39m)  \u001b[39m# Adding extra newline for spacing\u001b[39;00m\n\u001b[0;32m     <a href='vscode-notebook-cell:/c%3A/Users/josep/cellular_neuroscience/create_presentation.ipynb#W0sZmlsZQ%3D%3D?line=28'>29</a>\u001b[0m \u001b[39m# Example usage\u001b[39;00m\n\u001b[1;32m---> <a href='vscode-notebook-cell:/c%3A/Users/josep/cellular_neuroscience/create_presentation.ipynb#W0sZmlsZQ%3D%3D?line=29'>30</a>\u001b[0m create_markdown_with_images(\u001b[39m'\u001b[39;49m\u001b[39mpath/to/your/images\u001b[39;49m\u001b[39m'\u001b[39;49m, \u001b[39m'\u001b[39;49m\u001b[39moutput.md\u001b[39;49m\u001b[39m'\u001b[39;49m)\n",
      "\u001b[1;32mc:\\Users\\josep\\cellular_neuroscience\\create_presentation.ipynb Cell 1\u001b[0m line \u001b[0;36m5\n\u001b[0;32m      <a href='vscode-notebook-cell:/c%3A/Users/josep/cellular_neuroscience/create_presentation.ipynb#W0sZmlsZQ%3D%3D?line=2'>3</a>\u001b[0m \u001b[39mdef\u001b[39;00m \u001b[39mcreate_markdown_with_images\u001b[39m(directory, output_file):\n\u001b[0;32m      <a href='vscode-notebook-cell:/c%3A/Users/josep/cellular_neuroscience/create_presentation.ipynb#W0sZmlsZQ%3D%3D?line=3'>4</a>\u001b[0m     \u001b[39m# List all files in the directory\u001b[39;00m\n\u001b[1;32m----> <a href='vscode-notebook-cell:/c%3A/Users/josep/cellular_neuroscience/create_presentation.ipynb#W0sZmlsZQ%3D%3D?line=4'>5</a>\u001b[0m     files \u001b[39m=\u001b[39m os\u001b[39m.\u001b[39;49mlistdir(directory)\n\u001b[0;32m      <a href='vscode-notebook-cell:/c%3A/Users/josep/cellular_neuroscience/create_presentation.ipynb#W0sZmlsZQ%3D%3D?line=6'>7</a>\u001b[0m     \u001b[39m# Filter out non-image files\u001b[39;00m\n\u001b[0;32m      <a href='vscode-notebook-cell:/c%3A/Users/josep/cellular_neuroscience/create_presentation.ipynb#W0sZmlsZQ%3D%3D?line=7'>8</a>\u001b[0m     image_files \u001b[39m=\u001b[39m [f \u001b[39mfor\u001b[39;00m f \u001b[39min\u001b[39;00m files \u001b[39mif\u001b[39;00m f\u001b[39m.\u001b[39mlower()\u001b[39m.\u001b[39mendswith((\u001b[39m'\u001b[39m\u001b[39m.png\u001b[39m\u001b[39m'\u001b[39m, \u001b[39m'\u001b[39m\u001b[39m.jpg\u001b[39m\u001b[39m'\u001b[39m, \u001b[39m'\u001b[39m\u001b[39m.jpeg\u001b[39m\u001b[39m'\u001b[39m, \u001b[39m'\u001b[39m\u001b[39m.gif\u001b[39m\u001b[39m'\u001b[39m))]\n",
      "\u001b[1;31mFileNotFoundError\u001b[0m: [WinError 3] The system cannot find the path specified: 'path/to/your/images'"
     ]
    }
   ],
   "source": [
    "import os\n",
    "\n",
    "def create_markdown_with_images(directory, output_file):\n",
    "    # List all files in the directory\n",
    "    files = os.listdir(directory)\n",
    "    \n",
    "    # Filter out non-image files\n",
    "    image_files = [f for f in files if f.lower().endswith(('.png', '.jpg', '.jpeg', '.gif'))]\n",
    "\n",
    "    # Sort files if needed\n",
    "    image_files.sort()\n",
    "\n",
    "    # Markdown lines\n",
    "    markdown_lines = []\n",
    "\n",
    "    for image in image_files:\n",
    "        # Replace spaces with %20 and backslashes with forward slashes for URL encoding\n",
    "        image_path = os.path.join(directory, image).replace(' ', '%20').replace('\\\\', '/')\n",
    "\n",
    "        # Create markdown string for each image\n",
    "        markdown_line = f\"![{image}]({image_path})\"\n",
    "        markdown_lines.append(markdown_line)\n",
    "\n",
    "    # Write to markdown file\n",
    "    with open(output_file, 'w') as md_file:\n",
    "        for line in markdown_lines:\n",
    "            md_file.write(line + \"\\n\\n\")  # Adding extra newline for spacing\n",
    "\n",
    "# Example usage\n",
    "path = \"4_Developmental_Neurobiology/Chapter_20/presentation_figures\"\n",
    "create_markdown_with_images(path, 'output.md')\n"
   ]
  }
 ],
 "metadata": {
  "kernelspec": {
   "display_name": "nimlab_web",
   "language": "python",
   "name": "python3"
  },
  "language_info": {
   "codemirror_mode": {
    "name": "ipython",
    "version": 3
   },
   "file_extension": ".py",
   "mimetype": "text/x-python",
   "name": "python",
   "nbconvert_exporter": "python",
   "pygments_lexer": "ipython3",
   "version": "3.11.5"
  }
 },
 "nbformat": 4,
 "nbformat_minor": 2
}
