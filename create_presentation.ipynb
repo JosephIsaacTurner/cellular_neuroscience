{
 "cells": [
  {
   "cell_type": "code",
   "execution_count": 4,
   "metadata": {},
   "outputs": [],
   "source": [
    "import os\n",
    "\n",
    "def create_markdown_with_images(directory, output_file):\n",
    "    # List all files in the directory\n",
    "    files = os.listdir(directory)\n",
    "    \n",
    "    # Filter out non-image files\n",
    "    image_files = [f for f in files if f.lower().endswith(('.png', '.jpg', '.jpeg', '.gif'))]\n",
    "\n",
    "    # Sort files if needed\n",
    "    image_files.sort()\n",
    "\n",
    "    # Markdown lines\n",
    "    markdown_lines = []\n",
    "\n",
    "    for image in image_files:\n",
    "        # Replace spaces with %20 for URL encoding\n",
    "        image_path = os.path.join(directory, image).replace(' ', '%20')\n",
    "\n",
    "        # Create markdown string for each image\n",
    "        markdown_line = f\"![{image}]({image_path})\"\n",
    "        markdown_lines.append(markdown_line)\n",
    "\n",
    "    # Write to markdown file\n",
    "    with open(output_file, 'w') as md_file:\n",
    "        for line in markdown_lines:\n",
    "            md_file.write(line + \"\\n\\n\")  # Adding extra newline for spacing\n",
    "\n",
    "# Example usage\n",
    "path = \"4_Developmental_Neurobiology/Chapter_20/presentation_figures\"\n",
    "create_markdown_with_images(path, 'output.md')\n"
   ]
  }
 ],
 "metadata": {
  "kernelspec": {
   "display_name": "nimlab_web",
   "language": "python",
   "name": "python3"
  },
  "language_info": {
   "codemirror_mode": {
    "name": "ipython",
    "version": 3
   },
   "file_extension": ".py",
   "mimetype": "text/x-python",
   "name": "python",
   "nbconvert_exporter": "python",
   "pygments_lexer": "ipython3",
   "version": "3.11.5"
  }
 },
 "nbformat": 4,
 "nbformat_minor": 2
}
